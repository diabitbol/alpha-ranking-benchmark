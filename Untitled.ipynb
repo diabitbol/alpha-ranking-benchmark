{
 "cells": [
  {
   "cell_type": "code",
   "execution_count": 13,
   "id": "d2174db9-3ec0-4189-809c-10e28d684a94",
   "metadata": {},
   "outputs": [
    {
     "name": "stdout",
     "output_type": "stream",
     "text": [
      "<class 'pandas.core.frame.DataFrame'>\n",
      "RangeIndex: 2531599 entries, 0 to 2531598\n",
      "Data columns (total 7 columns):\n",
      " #   Column  Dtype  \n",
      "---  ------  -----  \n",
      " 0   Date    object \n",
      " 1   Ticker  object \n",
      " 2   Open    float64\n",
      " 3   High    float64\n",
      " 4   Low     float64\n",
      " 5   Close   float64\n",
      " 6   Volume  float64\n",
      "dtypes: float64(5), object(2)\n",
      "memory usage: 135.2+ MB\n"
     ]
    }
   ],
   "source": [
    "df = pd.read_csv(\"sp500_ohlcv_2005_2025.csv\")\n",
    "\n",
    "df.info()"
   ]
  },
  {
   "cell_type": "code",
   "execution_count": 17,
   "id": "ff689b02-e05f-475e-9cf0-2c1bdf450d95",
   "metadata": {
    "scrolled": true
   },
   "outputs": [
    {
     "data": {
      "text/plain": [
       "Date           0\n",
       "Ticker         0\n",
       "Open      227159\n",
       "High      227159\n",
       "Low       227159\n",
       "Close     227159\n",
       "Volume    227159\n",
       "dtype: int64"
      ]
     },
     "execution_count": 17,
     "metadata": {},
     "output_type": "execute_result"
    }
   ],
   "source": [
    "df.isna().sum()"
   ]
  },
  {
   "cell_type": "code",
   "execution_count": 19,
   "id": "368a8c0e-3024-4144-b1b1-e582777f2ca4",
   "metadata": {},
   "outputs": [],
   "source": [
    "# df: DataFrame avec une colonne 'ticker'\n",
    "cols = df.columns.difference(['Ticker'])\n",
    "\n",
    "# True si un ticker a au moins un NaN sur n'importe quelle ligne/colonne\n",
    "has_any_nan_by_ticker = df[cols].isna().any(axis=1).groupby(df['Ticker']).any()\n",
    "\n",
    "# Tickers à garder (ceux qui n'ont jamais de NaN)\n",
    "tickers_ok = has_any_nan_by_ticker[~has_any_nan_by_ticker].index\n",
    "\n",
    "# DataFrame filtrée\n",
    "df_clean = df[df['Ticker'].isin(tickers_ok)].copy()\n"
   ]
  },
  {
   "cell_type": "code",
   "execution_count": 23,
   "id": "863cb182-085b-41a0-bcae-c367d263f5d3",
   "metadata": {},
   "outputs": [
    {
     "data": {
      "text/plain": [
       "391"
      ]
     },
     "execution_count": 23,
     "metadata": {},
     "output_type": "execute_result"
    }
   ],
   "source": [
    "df_clean[\"Ticker\"].nunique()"
   ]
  },
  {
   "cell_type": "code",
   "execution_count": 24,
   "id": "0a0d091f-2ec1-408d-830b-448764b32bec",
   "metadata": {},
   "outputs": [
    {
     "data": {
      "text/plain": [
       "503"
      ]
     },
     "execution_count": 24,
     "metadata": {},
     "output_type": "execute_result"
    }
   ],
   "source": [
    "df[\"Ticker\"].nunique()"
   ]
  },
  {
   "cell_type": "code",
   "execution_count": null,
   "id": "dd63d1bd-5714-4305-b651-68a9653e3c79",
   "metadata": {},
   "outputs": [],
   "source": [
    "df"
   ]
  }
 ],
 "metadata": {
  "kernelspec": {
   "display_name": "Python 3 (ipykernel)",
   "language": "python",
   "name": "python3"
  },
  "language_info": {
   "codemirror_mode": {
    "name": "ipython",
    "version": 3
   },
   "file_extension": ".py",
   "mimetype": "text/x-python",
   "name": "python",
   "nbconvert_exporter": "python",
   "pygments_lexer": "ipython3",
   "version": "3.13.7"
  }
 },
 "nbformat": 4,
 "nbformat_minor": 5
}
