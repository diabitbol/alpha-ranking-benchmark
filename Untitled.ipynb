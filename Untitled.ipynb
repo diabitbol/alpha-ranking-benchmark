{
 "cells": [
  {
   "cell_type": "code",
   "execution_count": 3,
   "id": "76880490-87d9-47d0-80ef-6acbcb0076fd",
   "metadata": {},
   "outputs": [],
   "source": [
    "import pandas as pd"
   ]
  },
  {
   "cell_type": "code",
   "execution_count": 26,
   "id": "d2174db9-3ec0-4189-809c-10e28d684a94",
   "metadata": {},
   "outputs": [],
   "source": [
    "df = pd.read_csv(\"sp500_ohlcv_2005_2025_2.csv\")"
   ]
  },
  {
   "cell_type": "code",
   "execution_count": 27,
   "id": "09b6588a-7e54-4915-914a-8a9b8d5e8db7",
   "metadata": {},
   "outputs": [
    {
     "name": "stdout",
     "output_type": "stream",
     "text": [
      "<class 'pandas.core.frame.DataFrame'>\n",
      "RangeIndex: 2531599 entries, 0 to 2531598\n",
      "Data columns (total 7 columns):\n",
      " #   Column  Dtype  \n",
      "---  ------  -----  \n",
      " 0   Date    object \n",
      " 1   Ticker  object \n",
      " 2   Open    float64\n",
      " 3   High    float64\n",
      " 4   Low     float64\n",
      " 5   Close   float64\n",
      " 6   Volume  float64\n",
      "dtypes: float64(5), object(2)\n",
      "memory usage: 135.2+ MB\n"
     ]
    }
   ],
   "source": [
    "df.info()"
   ]
  },
  {
   "cell_type": "code",
   "execution_count": 28,
   "id": "abd1dbc4-04a5-41c4-a7d6-75974f147cbf",
   "metadata": {},
   "outputs": [
    {
     "data": {
      "text/plain": [
       "Date           0\n",
       "Ticker         0\n",
       "Open      227159\n",
       "High      227159\n",
       "Low       227159\n",
       "Close     227159\n",
       "Volume    227159\n",
       "dtype: int64"
      ]
     },
     "execution_count": 28,
     "metadata": {},
     "output_type": "execute_result"
    }
   ],
   "source": [
    "df.isna().sum()"
   ]
  },
  {
   "cell_type": "code",
   "execution_count": 32,
   "id": "368a8c0e-3024-4144-b1b1-e582777f2ca4",
   "metadata": {},
   "outputs": [],
   "source": [
    "# df: DataFrame avec une colonne 'ticker'\n",
    "cols = df.columns.difference(['Ticker'])\n",
    "\n",
    "# True si un ticker a au moins un NaN sur n'importe quelle ligne/colonne\n",
    "has_any_nan_by_ticker = df[cols].isna().any(axis=1).groupby(df['Ticker']).any()\n",
    "\n",
    "# Tickers à garder (ceux qui n'ont jamais de NaN)\n",
    "tickers_ok = has_any_nan_by_ticker[~has_any_nan_by_ticker].index\n",
    "tickers_nok = has_any_nan_by_ticker[has_any_nan_by_ticker].index\n",
    "\n",
    "# DataFrame filtrée\n",
    "df_clean = df[df['Ticker'].isin(tickers_ok)].copy()\n",
    "df_dirty = df[df['Ticker'].isin(tickers_nok)].copy()\n"
   ]
  },
  {
   "cell_type": "code",
   "execution_count": 33,
   "id": "0a0d091f-2ec1-408d-830b-448764b32bec",
   "metadata": {},
   "outputs": [
    {
     "data": {
      "text/plain": [
       "503"
      ]
     },
     "execution_count": 33,
     "metadata": {},
     "output_type": "execute_result"
    }
   ],
   "source": [
    "df[\"Ticker\"].nunique()"
   ]
  },
  {
   "cell_type": "code",
   "execution_count": 41,
   "id": "863cb182-085b-41a0-bcae-c367d263f5d3",
   "metadata": {},
   "outputs": [
    {
     "data": {
      "text/plain": [
       "array(['MMM', 'AOS', 'ABT', 'ACN', 'ADBE', 'AMD', 'AES', 'AFL', 'A',\n",
       "       'APD', 'AKAM', 'ALB', 'ARE', 'ALGN', 'LNT', 'ALL', 'GOOGL', 'GOOG',\n",
       "       'MO', 'AMZN', 'AEE', 'AEP', 'AXP', 'AIG', 'AMT', 'AME', 'AMGN',\n",
       "       'APH', 'ADI', 'AON', 'APA', 'AAPL', 'AMAT', 'ACGL', 'ADM', 'AJG',\n",
       "       'AIZ', 'T', 'ATO', 'ADSK', 'ADP', 'AZO', 'AVB', 'AVY', 'AXON',\n",
       "       'BKR', 'BALL', 'BAC', 'BAX', 'BDX', 'BRK-B', 'BBY', 'TECH', 'BIIB',\n",
       "       'BLK', 'BK', 'BA', 'BKNG', 'BSX', 'BMY', 'BRO', 'BF-B', 'BG',\n",
       "       'BXP', 'CHRW', 'CDNS', 'CPT', 'CPB', 'COF', 'CAH', 'KMX', 'CCL',\n",
       "       'CAT', 'CBRE', 'COR', 'CNC', 'CNP', 'CRL', 'SCHW', 'CVX', 'CB',\n",
       "       'CHD', 'CI', 'CINF', 'CTAS', 'CSCO', 'C', 'CLX', 'CME', 'CMS',\n",
       "       'KO', 'CTSH', 'CL', 'CMCSA', 'CAG', 'COP', 'ED', 'STZ', 'COO',\n",
       "       'CPRT', 'GLW', 'CSGP', 'COST', 'CTRA', 'CCI', 'CSX', 'CMI', 'CVS',\n",
       "       'DHR', 'DRI', 'DVA', 'DECK', 'DE', 'DVN', 'DLR', 'DLTR', 'D',\n",
       "       'DPZ', 'DOV', 'DHI', 'DTE', 'DUK', 'DD', 'EMN', 'ETN', 'EBAY',\n",
       "       'ECL', 'EIX', 'EW', 'EA', 'ELV', 'EME', 'EMR', 'ETR', 'EOG', 'EQT',\n",
       "       'EFX', 'EQIX', 'EQR', 'ERIE', 'ESS', 'EL', 'EG', 'EVRG', 'ES',\n",
       "       'EXC', 'EXPD', 'EXR', 'XOM', 'FFIV', 'FDS', 'FICO', 'FAST', 'FRT',\n",
       "       'FDX', 'FIS', 'FITB', 'FE', 'FI', 'F', 'BEN', 'FCX', 'GRMN', 'IT',\n",
       "       'GE', 'GEN', 'GD', 'GIS', 'GPC', 'GILD', 'GPN', 'GL', 'GS', 'HAL',\n",
       "       'HIG', 'HAS', 'DOC', 'HSIC', 'HSY', 'HOLX', 'HD', 'HON', 'HRL',\n",
       "       'HST', 'HPQ', 'HUBB', 'HUM', 'HBAN', 'IBM', 'IEX', 'IDXX', 'ITW',\n",
       "       'INCY', 'INTC', 'IFF', 'IP', 'IPG', 'INTU', 'ISRG', 'IVZ', 'IRM',\n",
       "       'JBHT', 'JBL', 'JKHY', 'J', 'JNJ', 'JCI', 'JPM', 'K', 'KEY', 'KMB',\n",
       "       'KIM', 'KLAC', 'KR', 'LHX', 'LH', 'LRCX', 'LVS', 'LEN', 'LII',\n",
       "       'LLY', 'LIN', 'LKQ', 'LMT', 'L', 'LOW', 'MTB', 'MAR', 'MMC', 'MLM',\n",
       "       'MAS', 'MTCH', 'MKC', 'MCD', 'MCK', 'MDT', 'MRK', 'MET', 'MTD',\n",
       "       'MGM', 'MCHP', 'MU', 'MSFT', 'MAA', 'MHK', 'MOH', 'TAP', 'MDLZ',\n",
       "       'MPWR', 'MNST', 'MCO', 'MS', 'MOS', 'MSI', 'NDAQ', 'NTAP', 'NFLX',\n",
       "       'NEM', 'NEE', 'NKE', 'NI', 'NDSN', 'NSC', 'NTRS', 'NOC', 'NRG',\n",
       "       'NUE', 'NVDA', 'NVR', 'ORLY', 'OXY', 'ODFL', 'OMC', 'ON', 'OKE',\n",
       "       'ORCL', 'PCAR', 'PKG', 'PH', 'PAYX', 'PNR', 'PEP', 'PFE', 'PCG',\n",
       "       'PNW', 'PNC', 'POOL', 'PPG', 'PPL', 'PFG', 'PG', 'PGR', 'PLD',\n",
       "       'PRU', 'PEG', 'PTC', 'PSA', 'PHM', 'PWR', 'QCOM', 'DGX', 'RL',\n",
       "       'RJF', 'RTX', 'O', 'REG', 'REGN', 'RF', 'RSG', 'RMD', 'RVTY',\n",
       "       'ROK', 'ROL', 'ROP', 'ROST', 'RCL', 'SPGI', 'CRM', 'SBAC', 'SLB',\n",
       "       'STX', 'SRE', 'SHW', 'SPG', 'SWKS', 'SJM', 'SNA', 'SO', 'LUV',\n",
       "       'SWK', 'SBUX', 'STT', 'STLD', 'STE', 'SYK', 'SNPS', 'SYY', 'TROW',\n",
       "       'TTWO', 'TPR', 'TGT', 'TDY', 'TER', 'TXN', 'TPL', 'TXT', 'TMO',\n",
       "       'TJX', 'TKO', 'TSCO', 'TT', 'TRV', 'TRMB', 'TFC', 'TYL', 'TSN',\n",
       "       'USB', 'UDR', 'UNP', 'UPS', 'URI', 'UNH', 'UHS', 'VLO', 'VTR',\n",
       "       'VRSN', 'VZ', 'VRTX', 'VTRS', 'VMC', 'WRB', 'GWW', 'WAB', 'WMT',\n",
       "       'DIS', 'WM', 'WAT', 'WEC', 'WFC', 'WELL', 'WST', 'WDC', 'WY',\n",
       "       'WSM', 'WMB', 'WTW', 'WYNN', 'XEL', 'YUM', 'ZBRA', 'ZBH'],\n",
       "      dtype=object)"
      ]
     },
     "execution_count": 41,
     "metadata": {},
     "output_type": "execute_result"
    }
   ],
   "source": [
    "df_clean[\"Ticker\"].unique()"
   ]
  },
  {
   "cell_type": "code",
   "execution_count": 39,
   "id": "57f2ccf8-9128-4d73-9356-f38abef0cec9",
   "metadata": {},
   "outputs": [
    {
     "data": {
      "text/plain": [
       "array(['ABBV', 'ABNB', 'ALLE', 'AMCR', 'AWK', 'AMP', 'APO', 'APP', 'APTV',\n",
       "       'ANET', 'BX', 'XYZ', 'AVGO', 'BR', 'BLDR', 'CARR', 'CBOE', 'CDW',\n",
       "       'CF', 'CHTR', 'CMG', 'CFG', 'COIN', 'CEG', 'CPAY', 'CTVA', 'CRWD',\n",
       "       'DDOG', 'DAY', 'DELL', 'DAL', 'DXCM', 'FANG', 'DG', 'DASH', 'DOW',\n",
       "       'EPAM', 'EXE', 'EXPE', 'FSLR', 'FTNT', 'FTV', 'FOXA', 'FOX',\n",
       "       'GEHC', 'GEV', 'GNRC', 'GM', 'GDDY', 'HCA', 'HPE', 'HLT', 'HWM',\n",
       "       'HII', 'IR', 'PODD', 'IBKR', 'ICE', 'INVH', 'IQV', 'KVUE', 'KDP',\n",
       "       'KEYS', 'KMI', 'KKR', 'KHC', 'LW', 'LDOS', 'LYV', 'LULU', 'LYB',\n",
       "       'MPC', 'MA', 'META', 'MRNA', 'MSCI', 'NWSA', 'NWS', 'NCLH', 'NXPI',\n",
       "       'OTIS', 'PLTR', 'PANW', 'PSKY', 'PAYC', 'PYPL', 'PM', 'PSX',\n",
       "       'HOOD', 'NOW', 'SW', 'SOLV', 'SMCI', 'SYF', 'TMUS', 'TRGP', 'TEL',\n",
       "       'TSLA', 'TTD', 'TDG', 'UBER', 'ULTA', 'UAL', 'VLTO', 'VRSK',\n",
       "       'VICI', 'V', 'VST', 'WBD', 'WDAY', 'XYL', 'ZTS'], dtype=object)"
      ]
     },
     "execution_count": 39,
     "metadata": {},
     "output_type": "execute_result"
    }
   ],
   "source": [
    "df_dirty[\"Ticker\"].unique()"
   ]
  },
  {
   "cell_type": "code",
   "execution_count": 48,
   "id": "38daee88-72e3-4bc8-bffa-cd75f8ad7ee7",
   "metadata": {},
   "outputs": [
    {
     "data": {
      "text/html": [
       "<div>\n",
       "<style scoped>\n",
       "    .dataframe tbody tr th:only-of-type {\n",
       "        vertical-align: middle;\n",
       "    }\n",
       "\n",
       "    .dataframe tbody tr th {\n",
       "        vertical-align: top;\n",
       "    }\n",
       "\n",
       "    .dataframe thead th {\n",
       "        text-align: right;\n",
       "    }\n",
       "</style>\n",
       "<table border=\"1\" class=\"dataframe\">\n",
       "  <thead>\n",
       "    <tr style=\"text-align: right;\">\n",
       "      <th></th>\n",
       "      <th>Date</th>\n",
       "      <th>Ticker</th>\n",
       "      <th>Open</th>\n",
       "      <th>High</th>\n",
       "      <th>Low</th>\n",
       "      <th>Close</th>\n",
       "      <th>Volume</th>\n",
       "    </tr>\n",
       "  </thead>\n",
       "  <tbody>\n",
       "    <tr>\n",
       "      <th>55363</th>\n",
       "      <td>2005-01-03</td>\n",
       "      <td>ABNB</td>\n",
       "      <td>NaN</td>\n",
       "      <td>NaN</td>\n",
       "      <td>NaN</td>\n",
       "      <td>NaN</td>\n",
       "      <td>NaN</td>\n",
       "    </tr>\n",
       "    <tr>\n",
       "      <th>55364</th>\n",
       "      <td>2005-01-04</td>\n",
       "      <td>ABNB</td>\n",
       "      <td>NaN</td>\n",
       "      <td>NaN</td>\n",
       "      <td>NaN</td>\n",
       "      <td>NaN</td>\n",
       "      <td>NaN</td>\n",
       "    </tr>\n",
       "    <tr>\n",
       "      <th>55365</th>\n",
       "      <td>2005-01-05</td>\n",
       "      <td>ABNB</td>\n",
       "      <td>NaN</td>\n",
       "      <td>NaN</td>\n",
       "      <td>NaN</td>\n",
       "      <td>NaN</td>\n",
       "      <td>NaN</td>\n",
       "    </tr>\n",
       "    <tr>\n",
       "      <th>55366</th>\n",
       "      <td>2005-01-06</td>\n",
       "      <td>ABNB</td>\n",
       "      <td>NaN</td>\n",
       "      <td>NaN</td>\n",
       "      <td>NaN</td>\n",
       "      <td>NaN</td>\n",
       "      <td>NaN</td>\n",
       "    </tr>\n",
       "    <tr>\n",
       "      <th>55367</th>\n",
       "      <td>2005-01-07</td>\n",
       "      <td>ABNB</td>\n",
       "      <td>NaN</td>\n",
       "      <td>NaN</td>\n",
       "      <td>NaN</td>\n",
       "      <td>NaN</td>\n",
       "      <td>NaN</td>\n",
       "    </tr>\n",
       "    <tr>\n",
       "      <th>...</th>\n",
       "      <td>...</td>\n",
       "      <td>...</td>\n",
       "      <td>...</td>\n",
       "      <td>...</td>\n",
       "      <td>...</td>\n",
       "      <td>...</td>\n",
       "      <td>...</td>\n",
       "    </tr>\n",
       "    <tr>\n",
       "      <th>60391</th>\n",
       "      <td>2024-12-24</td>\n",
       "      <td>ABNB</td>\n",
       "      <td>134.330002</td>\n",
       "      <td>135.070007</td>\n",
       "      <td>132.830002</td>\n",
       "      <td>134.990005</td>\n",
       "      <td>1677100.0</td>\n",
       "    </tr>\n",
       "    <tr>\n",
       "      <th>60392</th>\n",
       "      <td>2024-12-26</td>\n",
       "      <td>ABNB</td>\n",
       "      <td>134.240005</td>\n",
       "      <td>136.270004</td>\n",
       "      <td>134.240005</td>\n",
       "      <td>135.320007</td>\n",
       "      <td>2067000.0</td>\n",
       "    </tr>\n",
       "    <tr>\n",
       "      <th>60393</th>\n",
       "      <td>2024-12-27</td>\n",
       "      <td>ABNB</td>\n",
       "      <td>133.589996</td>\n",
       "      <td>134.500000</td>\n",
       "      <td>132.160004</td>\n",
       "      <td>133.384995</td>\n",
       "      <td>2650100.0</td>\n",
       "    </tr>\n",
       "    <tr>\n",
       "      <th>60394</th>\n",
       "      <td>2024-12-30</td>\n",
       "      <td>ABNB</td>\n",
       "      <td>131.309998</td>\n",
       "      <td>132.610001</td>\n",
       "      <td>129.850006</td>\n",
       "      <td>131.809998</td>\n",
       "      <td>2458800.0</td>\n",
       "    </tr>\n",
       "    <tr>\n",
       "      <th>60395</th>\n",
       "      <td>2024-12-31</td>\n",
       "      <td>ABNB</td>\n",
       "      <td>132.460007</td>\n",
       "      <td>133.190002</td>\n",
       "      <td>131.270004</td>\n",
       "      <td>131.410004</td>\n",
       "      <td>2312300.0</td>\n",
       "    </tr>\n",
       "  </tbody>\n",
       "</table>\n",
       "<p>5033 rows × 7 columns</p>\n",
       "</div>"
      ],
      "text/plain": [
       "             Date Ticker        Open        High         Low       Close  \\\n",
       "55363  2005-01-03   ABNB         NaN         NaN         NaN         NaN   \n",
       "55364  2005-01-04   ABNB         NaN         NaN         NaN         NaN   \n",
       "55365  2005-01-05   ABNB         NaN         NaN         NaN         NaN   \n",
       "55366  2005-01-06   ABNB         NaN         NaN         NaN         NaN   \n",
       "55367  2005-01-07   ABNB         NaN         NaN         NaN         NaN   \n",
       "...           ...    ...         ...         ...         ...         ...   \n",
       "60391  2024-12-24   ABNB  134.330002  135.070007  132.830002  134.990005   \n",
       "60392  2024-12-26   ABNB  134.240005  136.270004  134.240005  135.320007   \n",
       "60393  2024-12-27   ABNB  133.589996  134.500000  132.160004  133.384995   \n",
       "60394  2024-12-30   ABNB  131.309998  132.610001  129.850006  131.809998   \n",
       "60395  2024-12-31   ABNB  132.460007  133.190002  131.270004  131.410004   \n",
       "\n",
       "          Volume  \n",
       "55363        NaN  \n",
       "55364        NaN  \n",
       "55365        NaN  \n",
       "55366        NaN  \n",
       "55367        NaN  \n",
       "...          ...  \n",
       "60391  1677100.0  \n",
       "60392  2067000.0  \n",
       "60393  2650100.0  \n",
       "60394  2458800.0  \n",
       "60395  2312300.0  \n",
       "\n",
       "[5033 rows x 7 columns]"
      ]
     },
     "execution_count": 48,
     "metadata": {},
     "output_type": "execute_result"
    }
   ],
   "source": [
    "df[df[\"Ticker\"] == 'ABNB']"
   ]
  },
  {
   "cell_type": "code",
   "execution_count": null,
   "id": "4160ec9e-2e63-4bd5-b429-aef24a9d45ab",
   "metadata": {},
   "outputs": [],
   "source": []
  }
 ],
 "metadata": {
  "kernelspec": {
   "display_name": "Python 3 (ipykernel)",
   "language": "python",
   "name": "python3"
  },
  "language_info": {
   "codemirror_mode": {
    "name": "ipython",
    "version": 3
   },
   "file_extension": ".py",
   "mimetype": "text/x-python",
   "name": "python",
   "nbconvert_exporter": "python",
   "pygments_lexer": "ipython3",
   "version": "3.13.7"
  }
 },
 "nbformat": 4,
 "nbformat_minor": 5
}
